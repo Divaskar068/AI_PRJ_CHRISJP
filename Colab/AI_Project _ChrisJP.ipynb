1.cell
#@title Importing Libraries
import numpy as np
import pandas as pd
import matplotlib.pyplot as plt
import seaborn as sns
sns.set_style('darkgrid')
import warnings
warnings.filterwarnings('ignore')
import re
from sklearn.preprocessing import LabelEncoder
from sklearn.preprocessing import OneHotEncoder
from sklearn.feature_extraction.text import CountVectorizer
from sklearn.model_selection import train_test_split
from sklearn.feature_extraction.text import TfidfVectorizer
from scipy.sparse import hstack
from sklearn.multiclass import OneVsRestClassifier
from sklearn.neighbors import KNeighborsClassifier
from sklearn import metrics
import joblib
from sklearn.linear_model import LinearRegression
import math


2.cell
#@title Importing dataset
df = pd.read_csv('/content/jobss.csv')


3.cell
#@title Cleaning dataset
def cleanResume(resumeText):
    resumeText = re.sub('http\S+\s*', ' ', resumeText)  # remove URLs
    resumeText = re.sub('RT|cc', ' ', resumeText)  # remove RT and cc
    resumeText = re.sub('#\S+', '', resumeText)  # remove hashtags
    resumeText = re.sub('@\S+', '  ', resumeText)  # remove mentions
    resumeText = re.sub('[%s]' % re.escape("""!"#$%&'()*+,-./:;<=>?@[\]^_`{|}~"""), ' ', resumeText)  # remove punctuations
    resumeText = re.sub(r'[^\x00-\x7f]',r' ', resumeText) 
    resumeText = re.sub('\s+', ' ', resumeText)  # remove extra whitespace
    return resumeText


4.cell
#@title Clean, encode skills and job columns
df['cleaned_skills'] = df['Key Skills'].apply(lambda x:cleanResume(x))


5.cell
#@title Test-Split
input=df['new_cleaned_skills']
target=df['new_Category_job']
X_train, X_test, y_train, y_test = train_test_split(input, target, random_state=24, test_size=0.2)
X_train=X_train.values.reshape(-1,1)
X_test=X_test.values.reshape(-1,1)


6.cell
#@title Training AI model
# Model Training
model = LinearRegression()
model.fit(X_train, y_train)
print('')


7.cell
#@title Prediction (Add Skillset from ChrisJP)
string=''
Skillset="['css', 'python', 'html', 'c', 'sql', 'analytics', 'matlab', 'health', 'machine learning', 'solution architecture', 'analysis', 'programming', 'coding', 'startup', 'java', 'architecture', 'android', 'sports', 'javascript', 'ai']oid', 'coding', 'css', 'analysis', 'machine learning', 'javascript', 'html']" #@param {type:"string"}
#Skillset=['programming','algorithms','international','design','research','digital marketing','technical','economics','marketing','database','graphic design']
#Skillset=['research', 'economics', 'digital marketing', 'database', 'international', 'programming', 'design', 'marketing', 'technical', 'algorithms']
for s in Skillset:
  string+=s.lower()
  string+='\n'
y_test=label2.fit_transform(string.split('\n'))
y_test=sum(y_test)/len(y_test)*40
y_pred = model.predict([[y_test]])
print('Your expected Job Post : ')
print(label1.inverse_transform([math.floor(y_pred)]))


8.cell
print(f'---------------------------------\n| Training Accuracy   :- {((100-model.score(X_train, y_train)*100)).round(2)}% |')
